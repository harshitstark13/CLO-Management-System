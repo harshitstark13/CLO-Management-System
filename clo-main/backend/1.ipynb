{
 "cells": [
  {
   "cell_type": "code",
   "execution_count": 2,
   "id": "9804ba32",
   "metadata": {},
   "outputs": [
    {
     "name": "stdout",
     "output_type": "stream",
     "text": [
      "All .js files (excluding node_modules) combined into combined_output.txt\n"
     ]
    }
   ],
   "source": [
    "import os\n",
    "\n",
    "def combine_files(source_dir, output_file):\n",
    "    \"\"\"\n",
    "    Combines all .js files from source_dir into a single output_file\n",
    "    with filename and extension in the header, excluding .json files\n",
    "    and node_modules folder\n",
    "    \"\"\"\n",
    "    with open(output_file, 'w', encoding='utf-8') as outfile:\n",
    "        for root, dirs, files in os.walk(source_dir):\n",
    "            # Skip node_modules directory and its subdirectories\n",
    "            if 'node_modules' in root.split(os.sep):\n",
    "                continue\n",
    "                \n",
    "            for filename in files:\n",
    "                # Check if file ends with .js\n",
    "                if not filename.endswith('.js'):\n",
    "                    continue\n",
    "                    \n",
    "                # Explicitly skip .json files (redundant but kept for clarity)\n",
    "                if filename.endswith('.json'):\n",
    "                    continue\n",
    "                    \n",
    "                file_path = os.path.join(root, filename)\n",
    "                \n",
    "                if file_path == output_file:\n",
    "                    continue\n",
    "                    \n",
    "                try:\n",
    "                    # Write filename with extension as header\n",
    "                    outfile.write(f\"\\n\\n{'='*50}\\n\")\n",
    "                    full_filename = os.path.basename(file_path)\n",
    "                    outfile.write(f\"// {full_filename}\\n\")\n",
    "                    outfile.write(f\"{'='*50}\\n\\n\")\n",
    "                    \n",
    "                    with open(file_path, 'r', encoding='utf-8') as infile:\n",
    "                        content = infile.read()\n",
    "                        outfile.write(content)\n",
    "                except Exception as e:\n",
    "                    outfile.write(f\"\\nError reading {filename}: {str(e)}\\n\")\n",
    "                    print(f\"Error processing {filename}: {str(e)}\")\n",
    "\n",
    "    print(f\"All .js files (excluding node_modules) combined into {output_file}\")\n",
    "\n",
    "if __name__ == \"__main__\":\n",
    "    source_directory = \".\"  \n",
    "    output_filename = \"combined_output.txt\"\n",
    "    combine_files(source_directory, output_filename)"
   ]
  }
 ],
 "metadata": {
  "kernelspec": {
   "display_name": "Python 3",
   "language": "python",
   "name": "python3"
  },
  "language_info": {
   "codemirror_mode": {
    "name": "ipython",
    "version": 3
   },
   "file_extension": ".py",
   "mimetype": "text/x-python",
   "name": "python",
   "nbconvert_exporter": "python",
   "pygments_lexer": "ipython3",
   "version": "3.9.6"
  }
 },
 "nbformat": 4,
 "nbformat_minor": 5
}
